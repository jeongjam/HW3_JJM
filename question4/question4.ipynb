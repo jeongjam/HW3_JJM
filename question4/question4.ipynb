{
 "cells": [
  {
   "cell_type": "code",
   "execution_count": 16,
   "id": "519ae8d1",
   "metadata": {},
   "outputs": [
    {
     "name": "stdout",
     "output_type": "stream",
     "text": [
      "0! : 1\n",
      "2! : 2\n",
      "4! : 24\n",
      "6! : 720\n",
      "8! : 40320\n",
      "10! : 3628800\n",
      "12! : 479001600\n",
      "14! : 87178291200\n"
     ]
    }
   ],
   "source": [
    "def fac(a):\n",
    "    if(a==0): return 1\n",
    "    return a*fac(a-1)\n",
    "\n",
    "def main():\n",
    "    for i in range(8):\n",
    "        print(\"{0:d}! : {1:d}\".format(2*i,fac(2*i)))\n",
    "\n",
    "if __name__==\"__main__\":\n",
    "    main()"
   ]
  },
  {
   "cell_type": "code",
   "execution_count": null,
   "id": "2da555e1",
   "metadata": {},
   "outputs": [],
   "source": []
  }
 ],
 "metadata": {
  "kernelspec": {
   "display_name": "Python 3 (ipykernel)",
   "language": "python",
   "name": "python3"
  },
  "language_info": {
   "codemirror_mode": {
    "name": "ipython",
    "version": 3
   },
   "file_extension": ".py",
   "mimetype": "text/x-python",
   "name": "python",
   "nbconvert_exporter": "python",
   "pygments_lexer": "ipython3",
   "version": "3.9.13"
  }
 },
 "nbformat": 4,
 "nbformat_minor": 5
}
